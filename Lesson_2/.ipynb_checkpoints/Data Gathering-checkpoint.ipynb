{
 "cells": [
  {
   "cell_type": "code",
   "execution_count": 1,
   "id": "e6dcdda3",
   "metadata": {},
   "outputs": [],
   "source": [
    "import requests\n",
    "#work with HTML in memory\n",
    "from bs4 import BeautifulSoup"
   ]
  },
  {
   "cell_type": "code",
   "execution_count": 2,
   "id": "55e5e98a",
   "metadata": {},
   "outputs": [],
   "source": [
    "url = \"https://www.rottentomatoes.com/m/citizen_kane\"\n",
    "response = requests.get(url)"
   ]
  },
  {
   "cell_type": "code",
   "execution_count": 3,
   "id": "27442979",
   "metadata": {},
   "outputs": [],
   "source": [
    "# saving html content in file\n",
    "# with open(\"citizen_kane.html\",'wb') as file:\n",
    "#     file.write(response.content)"
   ]
  },
  {
   "cell_type": "code",
   "execution_count": 4,
   "id": "e56cc35d",
   "metadata": {},
   "outputs": [],
   "source": [
    "with open('citizen_kane.html') as file:\n",
    "    soup = BeautifulSoup(file,'lxml')\n"
   ]
  },
  {
   "cell_type": "code",
   "execution_count": 5,
   "id": "3d15ea88",
   "metadata": {},
   "outputs": [
    {
     "data": {
      "text/plain": [
       "'Citizen Kane (1941'"
      ]
     },
     "execution_count": 5,
     "metadata": {},
     "output_type": "execute_result"
    }
   ],
   "source": [
    "soup.find('title').contents[0][:len(' - Rotten Tomatoes')]\n",
    "# contents to parse the element cilderns \n"
   ]
  },
  {
   "cell_type": "code",
   "execution_count": null,
   "id": "70f81e98",
   "metadata": {},
   "outputs": [],
   "source": [
    "df_list = []\n",
    "folder = 'rt_html'\n",
    "for movie_html in os.listdir(folder):\n",
    "    with open(os.path.join(folder, movie_html)) as file:\n",
    "        # Your code here\n",
    "        # Note: a correct implementation may take ~15 seconds to run\n",
    "        title = soup.find('title').contents[0][:len(' - Rotten Tomatoes')]\n",
    "        \n",
    "        # Append to list of dictionaries\n",
    "        df_list.append({'title': title,\n",
    "                        'audience_score': int(audience_score),\n",
    "                        'number_of_audience_ratings': int(num_audience_ratings)})"
   ]
  },
  {
   "cell_type": "code",
   "execution_count": null,
   "id": "824ef1b2",
   "metadata": {},
   "outputs": [],
   "source": []
  },
  {
   "cell_type": "code",
   "execution_count": null,
   "id": "158b98d7",
   "metadata": {},
   "outputs": [],
   "source": []
  },
  {
   "cell_type": "code",
   "execution_count": null,
   "id": "ddec84e7",
   "metadata": {},
   "outputs": [],
   "source": []
  },
  {
   "cell_type": "code",
   "execution_count": null,
   "id": "3c2e1fb9",
   "metadata": {},
   "outputs": [],
   "source": []
  },
  {
   "cell_type": "code",
   "execution_count": null,
   "id": "37290516",
   "metadata": {},
   "outputs": [],
   "source": []
  },
  {
   "cell_type": "code",
   "execution_count": null,
   "id": "4930ea44",
   "metadata": {},
   "outputs": [],
   "source": []
  }
 ],
 "metadata": {
  "kernelspec": {
   "display_name": "Python 3",
   "language": "python",
   "name": "python3"
  },
  "language_info": {
   "codemirror_mode": {
    "name": "ipython",
    "version": 3
   },
   "file_extension": ".py",
   "mimetype": "text/x-python",
   "name": "python",
   "nbconvert_exporter": "python",
   "pygments_lexer": "ipython3",
   "version": "3.7.10"
  }
 },
 "nbformat": 4,
 "nbformat_minor": 5
}
