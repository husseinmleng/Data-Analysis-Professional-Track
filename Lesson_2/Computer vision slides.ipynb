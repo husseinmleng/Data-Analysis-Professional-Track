{
 "cells": [
  {
   "cell_type": "code",
   "execution_count": 30,
   "id": "531b7316",
   "metadata": {},
   "outputs": [],
   "source": [
    "from bs4 import BeautifulSoup\n",
    "import csv\n",
    "import requests\n",
    "\n",
    "html = requests.get('https://docs.google.com/spreadsheets/d/1ecUGIyhYOfQPi3HPXb-7NndrLgpX_zgkwsqzfqHPaus/pubhtml').text\n",
    "soup = BeautifulSoup(html, \"lxml\")\n",
    "tables = soup.find_all(\"table\")\n",
    "index = 1\n",
    "for table in tables:\n",
    "    with open(str(index) + \".csv\", \"w\") as f:\n",
    "        wr = csv.writer(f, quoting=csv.QUOTE_NONNUMERIC)\n",
    "        wr.writerows([[a['href'] for a in soup.find_all('a', href=True)] for row in table.find_all(\"tr\")])\n",
    "    index = index + 1"
   ]
  },
  {
   "cell_type": "code",
   "execution_count": 2,
   "id": "13cb28c1",
   "metadata": {},
   "outputs": [],
   "source": [
    "import requests\n",
    "from bs4 import BeautifulSoup\n",
    "url = \"https://docs.google.com/spreadsheets/d/1ecUGIyhYOfQPi3HPXb-7NndrLgpX_zgkwsqzfqHPaus/pubhtml\"\n",
    "response = requests.get(url)\n",
    "soup = BeautifulSoup(response.text,'html.parser')"
   ]
  },
  {
   "cell_type": "code",
   "execution_count": 3,
   "id": "83293f04",
   "metadata": {},
   "outputs": [
    {
     "data": {
      "text/plain": [
       "['https://www.google.com/url?q=https://s3.amazonaws.com/content.udacity-data.com/courses/ud810/slides/Unit-1/1A-L1.pdf&sa=D&source=editors&ust=1636481499690000&usg=AOvVaw22NDxuHMnwRtHyK_OaU81U',\n",
       " 'https://www.google.com/url?q=https://s3.amazonaws.com/content.udacity-data.com/courses/ud810/slides/Unit-2/2A-L1.pdf&sa=D&source=editors&ust=1636481499691000&usg=AOvVaw3RkHO7Ybhs76W9HVCtAdSm',\n",
       " 'https://www.google.com/url?q=https://s3.amazonaws.com/content.udacity-data.com/courses/ud810/slides/Unit-2/2A-L2.pdf&sa=D&source=editors&ust=1636481499691000&usg=AOvVaw30MAid5_bHsEsgTH_rHPIF',\n",
       " 'https://www.google.com/url?q=https://s3.amazonaws.com/content.udacity-data.com/courses/ud810/slides/Unit-2/2A-L3.pdf&sa=D&source=editors&ust=1636481499691000&usg=AOvVaw2-m17Tl0QGh9igkojsEUG0',\n",
       " 'https://www.google.com/url?q=https://s3.amazonaws.com/content.udacity-data.com/courses/ud810/slides/Unit-2/2A-L4.pdf&sa=D&source=editors&ust=1636481499691000&usg=AOvVaw3o8MpnGraQnVvM4TVN1NI7',\n",
       " 'https://www.google.com/url?q=https://s3.amazonaws.com/content.udacity-data.com/courses/ud810/slides/Unit-2/2A-L5.pdf&sa=D&source=editors&ust=1636481499692000&usg=AOvVaw07B2X4C6qi48s2ISWtJI4x',\n",
       " 'https://www.google.com/url?q=https://s3.amazonaws.com/content.udacity-data.com/courses/ud810/slides/Unit-2/2A-L6.pdf&sa=D&source=editors&ust=1636481499692000&usg=AOvVaw2E3oTYRBLP4RRk9Ra5-wub',\n",
       " 'https://www.google.com/url?q=https://s3.amazonaws.com/content.udacity-data.com/courses/ud810/slides/Unit-2/2B-L1.pdf&sa=D&source=editors&ust=1636481499692000&usg=AOvVaw2-OvosJ8nN8PPUyE7p4p1s',\n",
       " 'https://www.google.com/url?q=https://s3.amazonaws.com/content.udacity-data.com/courses/ud810/slides/Unit-2/2B-L2.pdf&sa=D&source=editors&ust=1636481499693000&usg=AOvVaw2fQAImUuJMBryzj_ACaKQE',\n",
       " 'https://www.google.com/url?q=https://s3.amazonaws.com/content.udacity-data.com/courses/ud810/slides/Unit-2/2B-L3.pdf&sa=D&source=editors&ust=1636481499693000&usg=AOvVaw0jzoQXKO2LPjEATOuDynHL',\n",
       " 'https://www.google.com/url?q=https://s3.amazonaws.com/content.udacity-data.com/courses/ud810/slides/Unit-2/2C-L1.pdf&sa=D&source=editors&ust=1636481499693000&usg=AOvVaw2Q0SDdnEyyu8DuvVZx68mp',\n",
       " 'https://www.google.com/url?q=https://s3.amazonaws.com/content.udacity-data.com/courses/ud810/slides/Unit-2/2C-L2.pdf&sa=D&source=editors&ust=1636481499694000&usg=AOvVaw1d6Zj9b5FI8EDQRmTBts6r',\n",
       " 'https://www.google.com/url?q=https://s3.amazonaws.com/content.udacity-data.com/courses/ud810/slides/Unit-2/2C-L3.pdf&sa=D&source=editors&ust=1636481499694000&usg=AOvVaw3-vCnJL75DlYA9IkrHOGDj',\n",
       " 'https://www.google.com/url?q=https://s3.amazonaws.com/content.udacity-data.com/courses/ud810/slides/Unit-3/3A-L1.pdf&sa=D&source=editors&ust=1636481499695000&usg=AOvVaw1LQOIW8sOvjzIbVxiYCO4T',\n",
       " 'https://www.google.com/url?q=https://s3.amazonaws.com/content.udacity-data.com/courses/ud810/slides/Unit-3/3A-L2.pdf&sa=D&source=editors&ust=1636481499695000&usg=AOvVaw2OwRXX3IvD9IosMvPeH0EM',\n",
       " 'https://www.google.com/url?q=https://s3.amazonaws.com/content.udacity-data.com/courses/ud810/slides/Unit-3/3B-L1.pdf&sa=D&source=editors&ust=1636481499695000&usg=AOvVaw0io8JpxyZzYwTtTlVuOGU0',\n",
       " 'https://www.google.com/url?q=https://s3.amazonaws.com/content.udacity-data.com/courses/ud810/slides/Unit-3/3B-L2.pdf&sa=D&source=editors&ust=1636481499696000&usg=AOvVaw0LMNl5K24wf559SVPCkfjq',\n",
       " 'https://www.google.com/url?q=https://s3.amazonaws.com/content.udacity-data.com/courses/ud810/slides/Unit-3/3B-L3.pdf&sa=D&source=editors&ust=1636481499696000&usg=AOvVaw2geuzQk5B-JmQ40ZemvwQX',\n",
       " 'https://www.google.com/url?q=https://s3.amazonaws.com/content.udacity-data.com/courses/ud810/slides/Unit-3/3C-L1.pdf&sa=D&source=editors&ust=1636481499696000&usg=AOvVaw1_mkaUM8n67w2JJVPCwYvF',\n",
       " 'https://www.google.com/url?q=https://s3.amazonaws.com/content.udacity-data.com/courses/ud810/slides/Unit-3/3C-L2.pdf&sa=D&source=editors&ust=1636481499696000&usg=AOvVaw1ACGBMxD0Km2GW38rSNLto',\n",
       " 'https://www.google.com/url?q=https://s3.amazonaws.com/content.udacity-data.com/courses/ud810/slides/Unit-3/3C-L3.pdf&sa=D&source=editors&ust=1636481499697000&usg=AOvVaw36vq5DiUXngeQVzfUs59IE',\n",
       " 'https://www.google.com/url?q=https://s3.amazonaws.com/content.udacity-data.com/courses/ud810/slides/Unit-3/3D-L1.pdf&sa=D&source=editors&ust=1636481499697000&usg=AOvVaw3RYS9HSG_xvvzSdut_9Afz',\n",
       " 'https://www.google.com/url?q=https://s3.amazonaws.com/content.udacity-data.com/courses/ud810/slides/Unit-3/3D-L2.pdf&sa=D&source=editors&ust=1636481499698000&usg=AOvVaw1INQHhitRojsRJRjdEu3eo',\n",
       " 'https://www.google.com/url?q=https://s3.amazonaws.com/content.udacity-data.com/courses/ud810/slides/Unit-3/3D-L3.pdf&sa=D&source=editors&ust=1636481499698000&usg=AOvVaw2rZIRO1svJca3M1J3NDBWH',\n",
       " 'https://www.google.com/url?q=https://s3.amazonaws.com/content.udacity-data.com/courses/ud810/slides/Unit-3/3D-L4.pdf&sa=D&source=editors&ust=1636481499698000&usg=AOvVaw3TRekNrWXLLrSXiHkEO-88',\n",
       " 'https://www.google.com/url?q=https://s3.amazonaws.com/content.udacity-data.com/courses/ud810/slides/Unit-3/3D-L5.pdf&sa=D&source=editors&ust=1636481499699000&usg=AOvVaw1LJ1eCinFGJZFU5i2vhONU',\n",
       " 'https://www.google.com/url?q=https://s3.amazonaws.com/content.udacity-data.com/courses/ud810/slides/Unit-4/4A-L1.pdf&sa=D&source=editors&ust=1636481499699000&usg=AOvVaw1V5926Z2R6Zod6T9NX4irN',\n",
       " 'https://www.google.com/url?q=https://s3.amazonaws.com/content.udacity-data.com/courses/ud810/slides/Unit-4/4A-L2.pdf&sa=D&source=editors&ust=1636481499699000&usg=AOvVaw3cimyhYtfR6ED-tW7YoGuK',\n",
       " 'https://www.google.com/url?q=https://s3.amazonaws.com/content.udacity-data.com/courses/ud810/slides/Unit-4/4A-L3.pdf&sa=D&source=editors&ust=1636481499700000&usg=AOvVaw0115NMjRPMZNEk1sYOnum5',\n",
       " 'https://www.google.com/url?q=https://s3.amazonaws.com/content.udacity-data.com/courses/ud810/slides/Unit-4/4B-L1.pdf&sa=D&source=editors&ust=1636481499700000&usg=AOvVaw1lteOimiNMhAlfOPlKv4Tj',\n",
       " 'https://www.google.com/url?q=https://s3.amazonaws.com/content.udacity-data.com/courses/ud810/slides/Unit-4/4B-L2.pdf&sa=D&source=editors&ust=1636481499700000&usg=AOvVaw3RRYczSyjqkZ8qUrkbPzv0',\n",
       " 'https://www.google.com/url?q=https://s3.amazonaws.com/content.udacity-data.com/courses/ud810/slides/Unit-4/4C-L1.pdf&sa=D&source=editors&ust=1636481499700000&usg=AOvVaw1BMOXC4dwBObtvFrP3KqKs',\n",
       " 'https://www.google.com/url?q=https://s3.amazonaws.com/content.udacity-data.com/courses/ud810/slides/Unit-4/4C-L2.pdf&sa=D&source=editors&ust=1636481499701000&usg=AOvVaw0wPWUNBHUz4Fl3lcNxLSHm',\n",
       " 'https://www.google.com/url?q=https://s3.amazonaws.com/content.udacity-data.com/courses/ud810/slides/Unit-5/5A-L1.pdf&sa=D&source=editors&ust=1636481499701000&usg=AOvVaw3Kdgpmw7fdT_U53eck4Gtn',\n",
       " 'https://www.google.com/url?q=https://s3.amazonaws.com/content.udacity-data.com/courses/ud810/slides/Unit-5/5B-L1.pdf&sa=D&source=editors&ust=1636481499701000&usg=AOvVaw1mfe4CC1HBVTyca39Fbe4O',\n",
       " 'https://www.google.com/url?q=https://s3.amazonaws.com/content.udacity-data.com/courses/ud810/slides/Unit-5/5C-L1.pdf&sa=D&source=editors&ust=1636481499701000&usg=AOvVaw3qaxoInleYlBm2b2LAVNV0',\n",
       " 'https://www.google.com/url?q=https://s3.amazonaws.com/content.udacity-data.com/courses/ud810/slides/Unit-6/6A-L1.pdf&sa=D&source=editors&ust=1636481499702000&usg=AOvVaw03F9H8UfCf2WRtbX1QxOrU',\n",
       " 'https://www.google.com/url?q=https://s3.amazonaws.com/content.udacity-data.com/courses/ud810/slides/Unit-6/6B-L1.pdf&sa=D&source=editors&ust=1636481499702000&usg=AOvVaw1mA2Kn0DWQelLUs0NmfcQz',\n",
       " 'https://www.google.com/url?q=https://s3.amazonaws.com/content.udacity-data.com/courses/ud810/slides/Unit-6/6B-L2.pdf&sa=D&source=editors&ust=1636481499702000&usg=AOvVaw2ViDSLE2zZsCHfz2f8ByJM',\n",
       " 'https://www.google.com/url?q=https://s3.amazonaws.com/content.udacity-data.com/courses/ud810/slides/Unit-6/6B-L3.pdf&sa=D&source=editors&ust=1636481499703000&usg=AOvVaw0K3Pet__CvXIjFS0w817Iu',\n",
       " 'https://www.google.com/url?q=https://s3.amazonaws.com/content.udacity-data.com/courses/ud810/slides/Unit-6/6B-L4.pdf&sa=D&source=editors&ust=1636481499703000&usg=AOvVaw0uj2TTKK9BVofsDb7oUbuB',\n",
       " 'https://www.google.com/url?q=https://s3.amazonaws.com/content.udacity-data.com/courses/ud810/slides/Unit-7/7A-L1.pdf&sa=D&source=editors&ust=1636481499703000&usg=AOvVaw2JOjQP1l9urbKPdvNM4qEN',\n",
       " 'https://www.google.com/url?q=https://s3.amazonaws.com/content.udacity-data.com/courses/ud810/slides/Unit-7/7B-L1.pdf&sa=D&source=editors&ust=1636481499704000&usg=AOvVaw3FmUa9ScE8DG3DB44_noaK',\n",
       " 'https://www.google.com/url?q=https://s3.amazonaws.com/content.udacity-data.com/courses/ud810/slides/Unit-7/7B-L2.pdf&sa=D&source=editors&ust=1636481499708000&usg=AOvVaw3EcsgIgmtZoiQZ6ahP6mdj',\n",
       " 'https://www.google.com/url?q=https://s3.amazonaws.com/content.udacity-data.com/courses/ud810/slides/Unit-7/7C-L1.pdf&sa=D&source=editors&ust=1636481499708000&usg=AOvVaw1j9tG8aInrkuNZ0N-tKFok',\n",
       " 'https://www.google.com/url?q=https://s3.amazonaws.com/content.udacity-data.com/courses/ud810/slides/Unit-7/7C-L2.pdf&sa=D&source=editors&ust=1636481499709000&usg=AOvVaw20nOcQfb-P8ueafjzE5t-Q',\n",
       " 'https://www.google.com/url?q=https://s3.amazonaws.com/content.udacity-data.com/courses/ud810/slides/Unit-7/7C-L3.pdf&sa=D&source=editors&ust=1636481499709000&usg=AOvVaw3FZxO-hLE8RqVy7Jnc0gZk',\n",
       " 'https://www.google.com/url?q=https://s3.amazonaws.com/content.udacity-data.com/courses/ud810/slides/Unit-7/7C-L4.pdf&sa=D&source=editors&ust=1636481499709000&usg=AOvVaw2yCoitz3tE0vwAtnhOq5BK',\n",
       " 'https://www.google.com/url?q=https://s3.amazonaws.com/content.udacity-data.com/courses/ud810/slides/Unit-7/7D-L1.pdf&sa=D&source=editors&ust=1636481499709000&usg=AOvVaw3KaQLm38dPPIbs7Frb04oC',\n",
       " 'https://www.google.com/url?q=https://s3.amazonaws.com/content.udacity-data.com/courses/ud810/slides/Unit-8/8A-L1.pdf&sa=D&source=editors&ust=1636481499710000&usg=AOvVaw1ST5F6NZojuOiHeAlgPWNP',\n",
       " 'https://www.google.com/url?q=https://s3.amazonaws.com/content.udacity-data.com/courses/ud810/slides/Unit-8/8B-L1.pdf&sa=D&source=editors&ust=1636481499710000&usg=AOvVaw0c5mIcPwFH3Wna8GAKj2j4',\n",
       " 'https://www.google.com/url?q=https://s3.amazonaws.com/content.udacity-data.com/courses/ud810/slides/Unit-8/8B-L2.pdf&sa=D&source=editors&ust=1636481499710000&usg=AOvVaw3drpzf25-Q7aVNUcVhnHlr',\n",
       " 'https://www.google.com/url?q=https://s3.amazonaws.com/content.udacity-data.com/courses/ud810/slides/Unit-8/8B-L3.pdf&sa=D&source=editors&ust=1636481499710000&usg=AOvVaw3M9W7fplouvrJpkEyprIO5',\n",
       " 'https://www.google.com/url?q=https://s3.amazonaws.com/content.udacity-data.com/courses/ud810/slides/Unit-8/8C-L1.pdf&sa=D&source=editors&ust=1636481499710000&usg=AOvVaw1EZskJ1uxj2OvCdOZ6PKWR',\n",
       " 'https://www.google.com/url?q=https://s3.amazonaws.com/content.udacity-data.com/courses/ud810/slides/Unit-8/8C-L2.pdf&sa=D&source=editors&ust=1636481499711000&usg=AOvVaw2XWmDAPVuUEHTUN_4jDg8M',\n",
       " 'https://www.google.com/url?q=https://s3.amazonaws.com/content.udacity-data.com/courses/ud810/slides/Unit-8/8C-L3.pdf&sa=D&source=editors&ust=1636481499711000&usg=AOvVaw2BBo8v-R228eRZeb4NJNwI',\n",
       " 'https://www.google.com/url?q=https://s3.amazonaws.com/content.udacity-data.com/courses/ud810/slides/Unit-8/8C-L4.pdf&sa=D&source=editors&ust=1636481499711000&usg=AOvVaw1gTh2E8aEKHYvlLxTk8kOZ',\n",
       " 'https://www.google.com/url?q=https://s3.amazonaws.com/content.udacity-data.com/courses/ud810/slides/Unit-8/8D-L1.pdf&sa=D&source=editors&ust=1636481499711000&usg=AOvVaw0bU1P9yvS5_FZqapk6p479',\n",
       " 'https://www.google.com/url?q=https://s3.amazonaws.com/content.udacity-data.com/courses/ud810/slides/Unit-8/8D-L2.pdf&sa=D&source=editors&ust=1636481499712000&usg=AOvVaw0KGtnYs8T9IgJNPGdVay29',\n",
       " 'https://www.google.com/url?q=https://s3.amazonaws.com/content.udacity-data.com/courses/ud810/slides/Unit-8/8D-L3.pdf&sa=D&source=editors&ust=1636481499712000&usg=AOvVaw1EOqr7OJvzREMhUgxUc4NW',\n",
       " 'https://www.google.com/url?q=https://s3.amazonaws.com/content.udacity-data.com/courses/ud810/slides/Unit-9/9A-L1.pdf&sa=D&source=editors&ust=1636481499712000&usg=AOvVaw15v4svIe7ZcOnbysaBXncU',\n",
       " 'https://www.google.com/url?q=https://s3.amazonaws.com/content.udacity-data.com/courses/ud810/slides/Unit-9/9A-L2.pdf&sa=D&source=editors&ust=1636481499712000&usg=AOvVaw2pkVA85stOJuH9Tkwx7PyB',\n",
       " 'https://www.google.com/url?q=https://s3.amazonaws.com/content.udacity-data.com/courses/ud810/slides/Unit-9/9A-L3.pdf&sa=D&source=editors&ust=1636481499712000&usg=AOvVaw2lXPsXTWLmj4FfPQv8b3CJ',\n",
       " 'https://www.google.com/url?q=https://s3.amazonaws.com/content.udacity-data.com/courses/ud810/slides/Unit-9/9A-L4.pdf&sa=D&source=editors&ust=1636481499713000&usg=AOvVaw2QlrsD6CBf3MkMU6vhuyrY',\n",
       " 'https://www.google.com/url?q=https://s3.amazonaws.com/content.udacity-data.com/courses/ud810/slides/Unit-9/9B-L1.pdf&sa=D&source=editors&ust=1636481499713000&usg=AOvVaw2OZ5NusiDO0ehczFQKo9gX',\n",
       " 'https://www.google.com/url?q=https://s3.amazonaws.com/content.udacity-data.com/courses/ud810/slides/Unit-9/9C-L1.pdf&sa=D&source=editors&ust=1636481499713000&usg=AOvVaw01h5eunCVsE5aDKYoLWftp',\n",
       " 'https://www.google.com/url?q=https://s3.amazonaws.com/content.udacity-data.com/courses/ud810/slides/Unit-10/10A-L1.pdf&sa=D&source=editors&ust=1636481499713000&usg=AOvVaw1w7vuI5ABk6jIxbT-L4J6c',\n",
       " 'https://www.google.com/url?q=https://s3.amazonaws.com/content.udacity-data.com/courses/ud810/slides/Unit-10/10B-L1.pdf&sa=D&source=editors&ust=1636481499713000&usg=AOvVaw3Hwja3RQ36pHiT64dJ8hN5']"
      ]
     },
     "execution_count": 3,
     "metadata": {},
     "output_type": "execute_result"
    }
   ],
   "source": [
    "links = [l.get(\"href\") for l in soup.find_all(\"a\",attrs={\"target\":\"_blank\"})]\n",
    "links = [s for s in links if \".pdf\" in s]\n",
    "links = links[:-1]\n",
    "links"
   ]
  },
  {
   "cell_type": "code",
   "execution_count": 4,
   "id": "cc66d2eb",
   "metadata": {},
   "outputs": [
    {
     "data": {
      "text/plain": [
       "['1A-L1 Introduction',\n",
       " '2A-L1 Images as functions',\n",
       " '2A-L2 Filtering',\n",
       " '2A-L3 Linearity and convolution',\n",
       " '2A-L4 Filters as templates',\n",
       " '2A-L5 Edge detection: Gradients',\n",
       " '2A-L6 Edge detection: 2D operators',\n",
       " '2B-L1 Hough transform: Lines Edges and Lines',\n",
       " '2B-L2 Hough transform: Circles',\n",
       " '2B-L3 Generalized Hough transform',\n",
       " '2C-L1 Fourier transform',\n",
       " '2C-L2 Convolution in frequency domain',\n",
       " '2C-L3 Aliasing',\n",
       " '3A-L1 Cameras and images',\n",
       " '3A-L2 Perspective imaging',\n",
       " '3B-L1 Stereo geometry Window-based Stereo Matching',\n",
       " '3B-L2 Epipolar geometry',\n",
       " '3B-L3 Stereo correspondence',\n",
       " '3C-L1 Extrinsic camera calibration',\n",
       " '3C-L2 Instrinsic camera calibration',\n",
       " '3C-L3 Calibrating cameras',\n",
       " '3D-L1 Image to image projections Geometry',\n",
       " '3D-L2 Homographies and mosaics',\n",
       " '3D-L3 Projective geometry',\n",
       " '3D-L4 Essential matrix',\n",
       " '3D-L5 Fundamental matrix',\n",
       " '4A-L1 Introduction to features Harris SIFT RANSAC',\n",
       " '4A-L2 Finding corners',\n",
       " '4A-L3 Scale invariance',\n",
       " '4B-L1 SIFT descriptor',\n",
       " '4B-L2 Matching feature points (a little)',\n",
       " '4C-L1 Robust error functions',\n",
       " '4C-L2 RANSAC',\n",
       " '5A-L1 Photometry',\n",
       " '5B-L1 Lightness',\n",
       " '5C-L1 Shape from shading',\n",
       " '6A-L1 Introduction to motion Optic Flow',\n",
       " '6B-L1 Dense flow: Brightness constraint',\n",
       " '6B-L2 Dense flow: Lucas and Kanade',\n",
       " '6B-L3 Hierarchical LK',\n",
       " '6B-L4 Motion models',\n",
       " '7A-L1 Introduction to tracking Spring',\n",
       " '7B-L1 Tracking as inference',\n",
       " '7B-L2 The Kalman filter',\n",
       " '7C-L1 Bayes filters Particle Tracking',\n",
       " '7C-L2 Particle filters',\n",
       " '7C-L3 Particle filters for localization',\n",
       " '7C-L4 Particle filters for real',\n",
       " '7D-L1 Tracking considerations',\n",
       " '8A-L1 Introduction to recognition',\n",
       " '8B-L1 Classification: Generative models',\n",
       " '8B-L2 Principle Component Analysis',\n",
       " '8B-L3 Appearance-based tracking',\n",
       " '8C-L1 Classification: Discriminative models',\n",
       " '8C-L2 Boosting and face detection',\n",
       " '8C-L3 Support Vector Machines',\n",
       " '8C-L4 Bag of visual words',\n",
       " '8D-L1 Introduction to video analysis Motion History Images',\n",
       " '8D-L2 Activity recognition',\n",
       " '8D-L3 Hidden Markov Models',\n",
       " '9A-L1 Color spaces',\n",
       " '9A-L2 Segmentation',\n",
       " '9A-L3 Mean shift segmentation',\n",
       " '9A-L4 Segmentation by graph partitioning',\n",
       " '9B-L1 Binary morphology',\n",
       " '9C-L1 3D perception',\n",
       " '10A-L1 The retina',\n",
       " '10B-L1 Vision in the brain']"
      ]
     },
     "execution_count": 4,
     "metadata": {},
     "output_type": "execute_result"
    }
   ],
   "source": [
    "import pandas as pd\n",
    "df = pd.read_csv('0.csv',header=None)\n",
    "names = [i for i in df.loc[:,0]]\n",
    "names"
   ]
  },
  {
   "cell_type": "code",
   "execution_count": 8,
   "id": "64214a97",
   "metadata": {},
   "outputs": [
    {
     "name": "stdout",
     "output_type": "stream",
     "text": [
      "file 0 downloaded\n",
      "file 1 downloaded\n",
      "file 2 downloaded\n",
      "file 3 downloaded\n",
      "file 4 downloaded\n"
     ]
    },
    {
     "ename": "OSError",
     "evalue": "[Errno 22] Invalid argument: '2A-L5 Edge detection: Gradients.pdf'",
     "output_type": "error",
     "traceback": [
      "\u001b[0;31m---------------------------------------------------------------------------\u001b[0m",
      "\u001b[0;31mOSError\u001b[0m                                   Traceback (most recent call last)",
      "\u001b[0;32m/tmp/ipykernel_10601/1784293374.py\u001b[0m in \u001b[0;36m<module>\u001b[0;34m\u001b[0m\n\u001b[1;32m      3\u001b[0m \u001b[0;32mfor\u001b[0m \u001b[0mname\u001b[0m\u001b[0;34m,\u001b[0m \u001b[0mlink\u001b[0m \u001b[0;32min\u001b[0m \u001b[0mzip\u001b[0m\u001b[0;34m(\u001b[0m\u001b[0mnames\u001b[0m\u001b[0;34m,\u001b[0m\u001b[0mlinks\u001b[0m\u001b[0;34m)\u001b[0m\u001b[0;34m:\u001b[0m\u001b[0;34m\u001b[0m\u001b[0;34m\u001b[0m\u001b[0m\n\u001b[1;32m      4\u001b[0m     \u001b[0mresponse\u001b[0m \u001b[0;34m=\u001b[0m \u001b[0mrequests\u001b[0m\u001b[0;34m.\u001b[0m\u001b[0mget\u001b[0m\u001b[0;34m(\u001b[0m\u001b[0mlink\u001b[0m\u001b[0;34m)\u001b[0m\u001b[0;34m\u001b[0m\u001b[0;34m\u001b[0m\u001b[0m\n\u001b[0;32m----> 5\u001b[0;31m     \u001b[0;32mwith\u001b[0m \u001b[0mopen\u001b[0m\u001b[0;34m(\u001b[0m\u001b[0mstr\u001b[0m\u001b[0;34m(\u001b[0m\u001b[0mname\u001b[0m\u001b[0;34m)\u001b[0m\u001b[0;34m+\u001b[0m\u001b[0;34m'.pdf'\u001b[0m\u001b[0;34m,\u001b[0m \u001b[0;34m'wb'\u001b[0m\u001b[0;34m)\u001b[0m \u001b[0;32mas\u001b[0m \u001b[0mf\u001b[0m\u001b[0;34m:\u001b[0m\u001b[0;34m\u001b[0m\u001b[0;34m\u001b[0m\u001b[0m\n\u001b[0m\u001b[1;32m      6\u001b[0m         \u001b[0mf\u001b[0m\u001b[0;34m.\u001b[0m\u001b[0mwrite\u001b[0m\u001b[0;34m(\u001b[0m\u001b[0mresponse\u001b[0m\u001b[0;34m.\u001b[0m\u001b[0mcontent\u001b[0m\u001b[0;34m)\u001b[0m\u001b[0;34m\u001b[0m\u001b[0;34m\u001b[0m\u001b[0m\n\u001b[1;32m      7\u001b[0m     \u001b[0mprint\u001b[0m\u001b[0;34m(\u001b[0m\u001b[0;34mf\"file {count} downloaded\"\u001b[0m\u001b[0;34m)\u001b[0m\u001b[0;34m\u001b[0m\u001b[0;34m\u001b[0m\u001b[0m\n",
      "\u001b[0;31mOSError\u001b[0m: [Errno 22] Invalid argument: '2A-L5 Edge detection: Gradients.pdf'"
     ]
    }
   ],
   "source": [
    "import requests\n",
    "count = 0\n",
    "for name, link in zip(names,links):\n",
    "    response = requests.get(link)\n",
    "    with open(str(name)+'.pdf', 'wb') as f:\n",
    "        f.write(response.content)\n",
    "    print(f\"file {count} downloaded\")\n",
    "    count+=1"
   ]
  },
  {
   "cell_type": "code",
   "execution_count": 36,
   "id": "a7ddf9e0",
   "metadata": {},
   "outputs": [],
   "source": [
    "import urllib.request\n",
    "pdf_path = \"'Introduction to Computer Vision/'\"\n",
    "def download_file(download_url, filename):\n",
    "    response = urllib.request.urlopen(download_url)    \n",
    "    file = open(filename + \".pdf\", 'wb')\n",
    "    file.write(response.read())\n",
    "    file.close()\n",
    "    \n",
    "for name, url in zip(result['Name'],result['Link']):\n",
    "    download_file(url, name)"
   ]
  },
  {
   "cell_type": "code",
   "execution_count": null,
   "id": "17d36253",
   "metadata": {},
   "outputs": [],
   "source": []
  }
 ],
 "metadata": {
  "kernelspec": {
   "display_name": "Python 3 (ipykernel)",
   "language": "python",
   "name": "python3"
  },
  "language_info": {
   "codemirror_mode": {
    "name": "ipython",
    "version": 3
   },
   "file_extension": ".py",
   "mimetype": "text/x-python",
   "name": "python",
   "nbconvert_exporter": "python",
   "pygments_lexer": "ipython3",
   "version": "3.8.11"
  }
 },
 "nbformat": 4,
 "nbformat_minor": 5
}
