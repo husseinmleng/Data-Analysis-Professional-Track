{
 "cells": [
  {
   "cell_type": "code",
   "execution_count": 6,
   "id": "e6dcdda3",
   "metadata": {},
   "outputs": [],
   "source": [
    "import requests\n",
    "#work with HTML in memory\n",
    "from bs4 import BeautifulSoup"
   ]
  },
  {
   "cell_type": "code",
   "execution_count": 2,
   "id": "55e5e98a",
   "metadata": {},
   "outputs": [],
   "source": [
    "url = \"https://www.rottentomatoes.com/m/citizen_kane\"\n",
    "response = requests.get(url)"
   ]
  },
  {
   "cell_type": "code",
   "execution_count": 3,
   "id": "27442979",
   "metadata": {},
   "outputs": [],
   "source": [
    "# saving html content in file\n",
    "# with open(\"citizen_kane.html\",'wb') as file:\n",
    "#     file.write(response.content)"
   ]
  },
  {
   "cell_type": "code",
   "execution_count": 4,
   "id": "6b437635",
   "metadata": {},
   "outputs": [],
   "source": []
  },
  {
   "cell_type": "code",
   "execution_count": 5,
   "id": "c1a1a596",
   "metadata": {},
   "outputs": [
    {
     "name": "stdout",
     "output_type": "stream",
     "text": [
      "'4 Queens.pdf'\r\n",
      " adult.csv\r\n",
      " archive.zip\r\n",
      " assessing-solutions\r\n",
      " assessing-solutions.zip\r\n",
      " bestofrt.tsv\r\n",
      "'bikeshare (1).py'\r\n",
      " bikeshare.py\r\n",
      " bikeshare.zip\r\n",
      " citizen_kane.html\r\n",
      " cleaning-practice-solutions.zip\r\n",
      " creating-and-saving-numpy-ndarrays.ipynb\r\n",
      "'Data Analysis Professional Track.pptx'\r\n",
      "'Data Gathering.ipynb'\r\n",
      " DeepMimo.py\r\n",
      " Detectors_v1.4.py\r\n",
      " drawing-conclusions-quiz-solutions\r\n",
      " drawing-conclusions-quiz-solutions.zip\r\n",
      "'LANDING PAGE.pptx'\r\n",
      " __MACOSX\r\n",
      "'market your content.pptx'\r\n",
      "'Python Fundamentals.ipynb'\r\n",
      "'Python Libraries.ipynb'\r\n",
      " reading-csv-solutions\r\n",
      " reading-csv-solutions.zip\r\n",
      " RelationalDatabases.pdf\r\n",
      " using-built-in-functions-to-create-ndarrays.ipynb\r\n",
      " visuals-quiz-solutions\r\n",
      " visuals-quiz-solutions.zip\r\n"
     ]
    }
   ],
   "source": [
    "!ls"
   ]
  },
  {
   "cell_type": "code",
   "execution_count": 9,
   "id": "e56cc35d",
   "metadata": {},
   "outputs": [],
   "source": [
    "with open('citizen_kane.html') as file:\n",
    "    soup = BeautifulSoup(file,'lxml')\n"
   ]
  },
  {
   "cell_type": "code",
   "execution_count": 16,
   "id": "3d15ea88",
   "metadata": {},
   "outputs": [
    {
     "data": {
      "text/plain": [
       "'Citizen Kane (1941'"
      ]
     },
     "execution_count": 16,
     "metadata": {},
     "output_type": "execute_result"
    }
   ],
   "source": [
    "soup.find('title').contents[0][:len(' - Rotten Tomatoes')]\n",
    "# contents to parse the element cilderns \n"
   ]
  }
 ],
 "metadata": {
  "kernelspec": {
   "display_name": "Python 3",
   "language": "python",
   "name": "python3"
  },
  "language_info": {
   "codemirror_mode": {
    "name": "ipython",
    "version": 3
   },
   "file_extension": ".py",
   "mimetype": "text/x-python",
   "name": "python",
   "nbconvert_exporter": "python",
   "pygments_lexer": "ipython3",
   "version": "3.7.10"
  }
 },
 "nbformat": 4,
 "nbformat_minor": 5
}
